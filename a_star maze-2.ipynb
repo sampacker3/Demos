{
 "cells": [
  {
   "cell_type": "markdown",
   "metadata": {},
   "source": [
    "### A* Algorithm\n",
    "\n",
    "&nbsp;\n",
    "\n",
    "Previously we have talked about Dijkstra's algorithm, which is a special case of A\\* algorithm, it's time to introduce the generalized form. A\\* algorithm is an algorithm to find the shortest path as well. Besides the distance from the beginning to the current vertex, A\\* has one more criterion which is called heuristic function. Heuristic function is an estimation of the potential steps from the current vertex to the end. A\\* intends to choose the vertex with the least distance from the beginning and potentially the least distance to the end. As two distances are taken into consideration, A\\* has higher space complexity than Dijkstra. The tradeoff is its faster execution time than Dijkstra. Given the heuristic function, it is supposed to travel fewer vertices than Dijkstra. Btw, in Dijkstra, the heuristic function equals to zero.\n",
    "\n",
    "Details of Dijkstra's algorithm could be found in the following link\n",
    "\n",
    "https://github.com/je-suis-tm/graph-theory/blob/master/dijkstra%20shortest%20path.ipynb\n",
    "\n",
    "&nbsp;\n",
    "\n",
    "### Heuristic\n",
    "\n",
    "&nbsp;\n",
    "\n",
    "In this case, we choose walking out of a maze as an example. There are three different ways to calculate the heuristic function. \n",
    "\n",
    "###### Manhattan Distance\n",
    "\n",
    "We are gonna use Manhattan distance since we are only allowed to move up, down, left and right in the maze. Think of the maze as street blocks in Manhattan. The only way for a taxi travelling from one point to another is to drive through twists and turns. Let's denote start as (x,y), end as (i,j). The heuristic for Manhattan distance is \n",
    "\n",
    "$$\n",
    "|x-i|+|y-j|\n",
    "$$\n",
    "\n",
    "###### Diagonal Distance\n",
    "\n",
    "In order to use diagonal distance, we must be able to move like a queen on the chessboard with eight different directions. The idea of Avinguda Diagonal may work in Barcelona but apparently not in a maze. The heuristic function of Barcelona distance is \n",
    "\n",
    "$$\n",
    "max(|x-i|,|y-j|)+(\\sqrt{2}-1) \\times min(|x-i|,|y-j|)\n",
    "$$\n",
    "\n",
    "###### Euclidean Distance\n",
    "\n",
    "Euclidean distance is widely used in geometry. This heuristic function requires us to have the flexibility to move whatever directions we want. Every angle should be valid instead of $90^{\\circ}$ in Manhattan distance or $45^{\\circ}$ in Barcelona distance. The heuristic function of Euclidean distance is \n",
    "\n",
    "$$\n",
    "\\sqrt{(x-i)^2+(y-j)^2}\n",
    "$$\n",
    "\n",
    "&nbsp;\n"
   ]
  },
  {
   "cell_type": "code",
   "execution_count": 1,
   "metadata": {},
   "outputs": [],
   "source": [
    "import os\n",
    "os.chdir('K:/ecole/github')\n",
    "import matplotlib.pyplot as plt\n",
    "\n",
    "#graph adt\n",
    "#check the below link for more details\n",
    "# https://github.com/je-suis-tm/graph-theory/blob/master/graph.py\n",
    "import graph"
   ]
  },
  {
   "cell_type": "code",
   "execution_count": 2,
   "metadata": {},
   "outputs": [],
   "source": [
    "#the structure of a* is similar to dijkstra's\n",
    "#we compute distance from the beginning to the current vertex\n",
    "#as well as the heuristic function\n",
    "#for each vertex we iterate, we pick the minimum sum of both\n",
    "#until we reach the destination\n",
    "def a_star(ADT,start,end):\n",
    "    \"\"\"A* Algorithm,\n",
    "    a generalized Dijkstra's algorithm with heuristic function to reduce execution time\"\"\"\n",
    "    \n",
    "    #all weights in dcg must be positive \n",
    "    #otherwise we have to use bellman ford instead\n",
    "    # https://github.com/je-suis-tm/graph-theory/blob/master/bellman_ford%20forex%20arbitrage.ipynb\n",
    "    neg_check=[j for i in ADT.reveal() for j in ADT.reveal()[i].values()]\n",
    "    assert min(neg_check)>=0,\"negative weights are not allowed, please use Bellman-Ford\"\n",
    "    \n",
    "    #queue in a* is the same as the queue in dijkstra\n",
    "    queue={}\n",
    "    queue[start]=0\n",
    "    \n",
    "    #same as dijkstra\n",
    "    #distance keeps track of distance from starting vertex to any vertex\n",
    "    distance={} \n",
    "    \n",
    "    #heuristic keeps track of distance from ending vertex to any vertex\n",
    "    heuristic={}\n",
    "    \n",
    "    #route is a dict of the summation of distance and heuristic\n",
    "    route={}\n",
    "    \n",
    "    #criteria\n",
    "    for i in ADT.vertex():\n",
    "        \n",
    "        #same as dijkstra\n",
    "        distance[i]=float('inf')\n",
    "        \n",
    "        #manhattan distance\n",
    "        heuristic[i]=abs(i[0]-end[0])+abs(i[1]-end[1])\n",
    "        \n",
    "    #same as dijkstra\n",
    "    distance[start]=0\n",
    "\n",
    "    #pred keeps track of how we get to the current vertex\n",
    "    pred={}\n",
    "    \n",
    "    while queue:\n",
    "        \n",
    "        #same as dijkstra\n",
    "        current=min(queue,key=queue.get)\n",
    "        queue.pop(current)\n",
    "        \n",
    "        #find the minimum summation of both distances\n",
    "        minimum=float('inf')\n",
    "\n",
    "        for j in ADT.edge(current):\n",
    "            \n",
    "            #check if the current vertex can construct the optimal path\n",
    "            #from the beginning and to the end\n",
    "            distance[j]=distance[current]+ADT.weight(current,j)\n",
    "            route[j]=distance[j]+heuristic[j]\n",
    "            if route[j]<minimum:\n",
    "                minimum=route[j]\n",
    "\n",
    "        for j in ADT.edge(current):\n",
    "            \n",
    "            #we only append unvisited and unqueued vertices\n",
    "            #note that we could have two vertices with the minimum summation\n",
    "            #that is why we use a loop to find all valid vertices\n",
    "            if (route[j]==minimum) and (ADT.go(j)==0) and (j not in queue):\n",
    "                queue[j]=route[j]\n",
    "                pred[j]=current\n",
    "        \n",
    "        #each vertex is visited only once\n",
    "        ADT.visit(current)\n",
    "        \n",
    "        #traversal ends when the target is met\n",
    "        if current==end:\n",
    "            break        \n",
    "    \n",
    "    #create the shortest path by backtracking\n",
    "    #trace the predecessor vertex from end to start\n",
    "    previous=end\n",
    "    path=[]\n",
    "    while pred:\n",
    "        path.insert(0, previous)\n",
    "        if previous==start:\n",
    "            break\n",
    "        previous=pred[previous]\n",
    "    \n",
    "    #note that if we cant go from start to end\n",
    "    #we may get inf for distance[end]\n",
    "    #additionally, the path may not include start position\n",
    "    return distance[end],path"
   ]
  },
  {
   "cell_type": "code",
   "execution_count": 3,
   "metadata": {},
   "outputs": [],
   "source": [
    "#the difficult part of a maze problem is to convert maze into a graph adt\n",
    "#assume maze is an i*j matrix\n",
    "#we can convert it into a nested list or a matrix\n",
    "#then assign coordinates to each vertex, the same as the index\n",
    "#the top left would be (0,0)\n",
    "#the bottom right would be (i-1,j-1)\n",
    "def check_around(matrix,maze,i,j):\n",
    "    \n",
    "    #for a vertex with coordinate (i,j)\n",
    "    #we wanna check its top, bottom, left and right\n",
    "    #which are (i-1,j),(i+1,j),(i,j-1),(i,j+1)\n",
    "    #if those vertices mentioned above are not walls\n",
    "    #'+' denotes wall in the maze, space denotes available path\n",
    "    #we will append those edges into the graph adt   \n",
    "    for k,l in [(i-1,j),(i+1,j),(i,j-1),(i,j+1)]:\n",
    "        try:\n",
    "            if matrix[k][l]!='+':\n",
    "                maze.append((i,j),(k,l),1)\n",
    "        \n",
    "        #for boundary vertices, we wont find all four vertices near them\n",
    "        #e.g. only bottom (1,0) and right (0,1) for the top left (0,0)\n",
    "        #thus, we need to exclude index error\n",
    "        except IndexError:\n",
    "            pass\n",
    "        \n",
    "    return maze"
   ]
  },
  {
   "cell_type": "code",
   "execution_count": 4,
   "metadata": {},
   "outputs": [],
   "source": [
    "#before we make comparison of how a* outperforms dijkstra\n",
    "#we would also love to compare the result with bfs and dfs\n",
    "#although some minor changes will be applied to the standard bfs and dfs\n",
    "#bfs_path,dfs_path would give us the path and the length of the path\n",
    "#unlike the organic bfs or dfs, we stop the iteration when we reach the destination\n",
    "#details of bfs and dfs can be found in the following link\n",
    "# https://github.com/je-suis-tm/graph-theory/blob/master/BFS%20DFS%20on%20DCG.ipynb\n",
    "def bfs_path(ADT,start,end):\n",
    "    \"\"\"Breadth First Search to find the path from start to end\"\"\"\n",
    "    \n",
    "    #create a queue with rule of first-in-first-out\n",
    "    queue=[]\n",
    "    queue.append(start)\n",
    "    \n",
    "    #pred keeps track of how we get to the current vertex\n",
    "    pred={}\n",
    "    \n",
    "    while queue:\n",
    "                \n",
    "        #keep track of the visited vertices\n",
    "        current=queue.pop(0)\n",
    "        ADT.visit(current)\n",
    "                \n",
    "        for newpos in ADT.edge(current):\n",
    "            \n",
    "            #visit each vertex once\n",
    "            if ADT.go(newpos)==0 and newpos not in queue:\n",
    "                queue.append(newpos)\n",
    "                pred[newpos]=current\n",
    "                \n",
    "        #traversal ends when the target is met\n",
    "        if current==end:\n",
    "            break\n",
    "\n",
    "    #create the path by backtracking\n",
    "    #trace the predecessor vertex from end to start\n",
    "    previous=end\n",
    "    path=[]\n",
    "    while pred:\n",
    "        path.insert(0, previous)\n",
    "        if previous==start:\n",
    "            break\n",
    "        previous=pred[previous]\n",
    "    \n",
    "    #note that if we cant go from start to end\n",
    "    #we may get inf for distance\n",
    "    #additionally, the path may not include start position\n",
    "    return len(path)-1,path\n",
    "\n",
    "\n",
    "#to make our life easier, we use dfs iteration instead of dfs recursion\n",
    "def dfs_path(ADT,start,end):\n",
    "    \"\"\"Depth First Search to find the path from start to end\"\"\"\n",
    "    \n",
    "    queue=[]\n",
    "    queue.append(start) \n",
    "    \n",
    "    #pred keeps track of how we get to the current vertex\n",
    "    pred={}\n",
    "    \n",
    "    #the loop is the backtracking part when it reaches cul-de-sac\n",
    "    while queue:\n",
    "        \n",
    "        #keep track of the visited vertices\n",
    "        current=queue.pop(0)\n",
    "        ADT.visit(current)\n",
    "        \n",
    "        #priority queue\n",
    "        smallq=[]        \n",
    "        \n",
    "        #find children and add to the priority\n",
    "        for newpos in ADT.edge(current):\n",
    "            if ADT.go(newpos)==0:\n",
    "                \n",
    "                #if the child vertex has already been in queue\n",
    "                #move it to the frontline of queue\n",
    "                if newpos in queue:\n",
    "                    queue.remove(newpos)\n",
    "                smallq.append(newpos)\n",
    "                pred[newpos]=current\n",
    "                \n",
    "        queue=smallq+queue\n",
    "        \n",
    "        #traversal ends when the target is met\n",
    "        if current==end:\n",
    "            break\n",
    "            \n",
    "    #create the path by backtracking\n",
    "    #trace the predecessor vertex from end to start\n",
    "    previous=end\n",
    "    path=[]\n",
    "    while pred:\n",
    "        path.insert(0, previous)\n",
    "        if previous==start:\n",
    "            break\n",
    "        previous=pred[previous]\n",
    "    \n",
    "    #note that if we cant go from start to end\n",
    "    #we may get inf for distance\n",
    "    #additionally, the path may not include start position\n",
    "    return len(path)-1,path"
   ]
  },
  {
   "cell_type": "code",
   "execution_count": 5,
   "metadata": {},
   "outputs": [],
   "source": [
    "#viz\n",
    "def maze_viz(matrix,start,end,route=None):\n",
    "\n",
    "    #prepare walls for viz\n",
    "    #for available paths, we just leave em blank\n",
    "    walls=[(i,j) for i in range(len(matrix)) for j in range(len(matrix[0])) if matrix[i][j]=='+']\n",
    "    \n",
    "    if route:\n",
    "        \n",
    "        #create markers for the optimal path\n",
    "        #direction is derived from the difference\n",
    "        #between the current state and the previous state\n",
    "        direction=[]\n",
    "        for i in range(1,len(route)):\n",
    "            if route[i][0]-route[i-1][0]>0:\n",
    "                direction.append('^')\n",
    "            elif route[i][0]-route[i-1][0]<0:\n",
    "                direction.append('v')        \n",
    "            elif route[i][1]-route[i-1][1]>0:\n",
    "                direction.append('>')\n",
    "            else:\n",
    "                direction.append('<')  \n",
    "\n",
    "        #remove the start\n",
    "        direction.pop(0)\n",
    "\n",
    "    #viz\n",
    "    ax=plt.figure(dpi=100).add_subplot(111)\n",
    "\n",
    "    #remove boundaries\n",
    "    for i in ['top','bottom','right','left']:\n",
    "        ax.spines[i].set_visible(False)\n",
    "\n",
    "    #walls\n",
    "    plt.scatter([i[1] for i in walls],[i[0] for i in walls],\n",
    "                marker='X',s=100,color='black')\n",
    "\n",
    "    #starting point\n",
    "    plt.scatter(start[1],start[0],marker='*',\n",
    "                s=100,color='gold')\n",
    "    \n",
    "    #walk out of the maze\n",
    "    if route:\n",
    "        \n",
    "        #remove start and end from route\n",
    "        for i in range(len(route)-2):\n",
    "            plt.scatter(route[i+1][1],route[i+1][0],\n",
    "                        marker=direction[i],color='silver')\n",
    "\n",
    "    #ending point\n",
    "    plt.text(end[1],end[0],'EXIT',color='red',\n",
    "         horizontalalignment='center',\n",
    "         verticalalignment='center')\n",
    "    plt.xticks([])\n",
    "    plt.yticks([])\n",
    "    plt.show()"
   ]
  },
  {
   "cell_type": "code",
   "execution_count": 6,
   "metadata": {},
   "outputs": [],
   "source": [
    "#read the maze file\n",
    "#it can be downloaded from the data subfolder\n",
    "# https://github.com/je-suis-tm/graph-theory/blob/master/data/maze.txt\n",
    "f=open('maze.txt','r')\n",
    "text=f.read()\n",
    "matrix=[list(i) for i in text.splitlines()]"
   ]
  },
  {
   "cell_type": "code",
   "execution_count": 7,
   "metadata": {},
   "outputs": [],
   "source": [
    "#create graph adt\n",
    "maze=graph.graph()\n",
    "\n",
    "for i in range(len(matrix)):\n",
    "    for j in range(len(matrix[0])):\n",
    "        \n",
    "        #for vertices in the maze\n",
    "        #'S' is the starting point\n",
    "        #when we find it, we set the start variable\n",
    "        #and dont forget to append start into graph adt\n",
    "        if matrix[i][j]=='S':\n",
    "            start=(i,j)\n",
    "            maze=check_around(matrix,maze,i,j)\n",
    "            \n",
    "        #when we find ' ', we use check_around function to add edges\n",
    "        elif matrix[i][j]==' ':\n",
    "            maze=check_around(matrix,maze,i,j)\n",
    "            \n",
    "            #if there is a breach on the boundary wall\n",
    "            #we consider it as exit\n",
    "            #we assume there is only one exit in this maze\n",
    "            #we can also change the destination to somewhere inside the maze\n",
    "            #in that case we have to consider the situation \n",
    "            #what if we cannot get to the destination\n",
    "            if (i==0) or (i==len(matrix)-1) or (j==0) or (j==len(matrix[0])-1):\n",
    "                end=(i,j)\n",
    "                \n",
    "        #when we find '+', we skip the brick wall\n",
    "        else:\n",
    "            pass"
   ]
  },
  {
   "cell_type": "code",
   "execution_count": 8,
   "metadata": {},
   "outputs": [
    {
     "data": {
      "image/png": "[encoded data removed]",
      "text/plain": [
       "<Figure size 600x400 with 1 Axes>"
      ]
     },
     "metadata": {},
     "output_type": "display_data"
    }
   ],
   "source": [
    "#gods view\n",
    "maze_viz(matrix,start,end)"
   ]
  },
  {
   "cell_type": "code",
   "execution_count": 9,
   "metadata": {},
   "outputs": [
    {
     "name": "stdout",
     "output_type": "stream",
     "text": [
      "length of the path: 21\n",
      "number of vertices A* has travelled: 45\n"
     ]
    }
   ],
   "source": [
    "#a* iterates through the least vertices\n",
    "#it slightly faster than dijkstra for that reason\n",
    "len_of_path_astar,path_astar=a_star(maze,start,end)\n",
    "num_of_v_astar=len([maze.route()[i] for i in maze.route() if maze.route()[i]==1])\n",
    "maze.clear(whole=True)\n",
    "\n",
    "print(f'length of the path:',len_of_path_astar)\n",
    "print(f'number of vertices A* has travelled:',num_of_v_astar)"
   ]
  },
  {
   "cell_type": "code",
   "execution_count": 10,
   "metadata": {},
   "outputs": [
    {
     "name": "stdout",
     "output_type": "stream",
     "text": [
      "480 µs ± 2.64 µs per loop (mean ± std. dev. of 7 runs, 1000 loops each)\n"
     ]
    }
   ],
   "source": [
    "%%timeit\n",
    "_,_=graph.a_star(maze,start,end)\n",
    "maze.clear(whole=True)"
   ]
  },
  {
   "cell_type": "code",
   "execution_count": 11,
   "metadata": {},
   "outputs": [
    {
     "name": "stdout",
     "output_type": "stream",
     "text": [
      "length of the path: 21\n",
      "number of vertices Dijkstra has travelled: 86\n"
     ]
    }
   ],
   "source": [
    "len_of_path_dijkstra,path_dijkstra=graph.dijkstra(maze,start,end)\n",
    "num_of_v_dijkstra=len([maze.route()[i] for i in maze.route() if maze.route()[i]==1])\n",
    "maze.clear(whole=True)\n",
    "\n",
    "print(f'length of the path:',len_of_path_dijkstra)\n",
    "print(f'number of vertices Dijkstra has travelled:',num_of_v_dijkstra)"
   ]
  },
  {
   "cell_type": "code",
   "execution_count": 12,
   "metadata": {},
   "outputs": [
    {
     "name": "stdout",
     "output_type": "stream",
     "text": [
      "551 µs ± 3.44 µs per loop (mean ± std. dev. of 7 runs, 1000 loops each)\n"
     ]
    }
   ],
   "source": [
    "%%timeit\n",
    "_,_=graph.dijkstra(maze,start,end)\n",
    "maze.clear(whole=True)"
   ]
  },
  {
   "cell_type": "code",
   "execution_count": 13,
   "metadata": {},
   "outputs": [
    {
     "name": "stdout",
     "output_type": "stream",
     "text": [
      "length of the path: 21\n",
      "number of vertices BFS has travelled: 86\n"
     ]
    }
   ],
   "source": [
    "#bfs is guaranteed to find the optimal path\n",
    "#it is funny that bfs is faster than both a* and dijkstra\n",
    "len_of_path_bfs,path_bfs=bfs_path(maze,start,end)\n",
    "num_of_v_bfs=len([maze.route()[i] for i in maze.route() if maze.route()[i]==1])\n",
    "maze.clear(whole=True)\n",
    "\n",
    "print(f'length of the path:',len_of_path_bfs)\n",
    "print(f'number of vertices BFS has travelled:',num_of_v_bfs)"
   ]
  },
  {
   "cell_type": "code",
   "execution_count": 14,
   "metadata": {},
   "outputs": [
    {
     "name": "stdout",
     "output_type": "stream",
     "text": [
      "216 µs ± 2.71 µs per loop (mean ± std. dev. of 7 runs, 1000 loops each)\n"
     ]
    }
   ],
   "source": [
    "%%timeit\n",
    "_,_=graph.bfs_path(maze,start,end)\n",
    "maze.clear(whole=True)"
   ]
  },
  {
   "cell_type": "code",
   "execution_count": 15,
   "metadata": {},
   "outputs": [
    {
     "name": "stdout",
     "output_type": "stream",
     "text": [
      "length of the path: 35\n",
      "number of vertices DFS has travelled: 66\n"
     ]
    }
   ],
   "source": [
    "#dfs may find the path, it may not be the optimal\n",
    "#it is funny that dfs is faster than both a* and dijkstra\n",
    "len_of_path_dfs,path_dfs=dfs_path(maze,start,end)\n",
    "num_of_v_dfs=len([maze.route()[i] for i in maze.route() if maze.route()[i]==1])\n",
    "maze.clear(whole=True)\n",
    "\n",
    "print(f'length of the path:',len_of_path_dfs)\n",
    "print(f'number of vertices DFS has travelled:',num_of_v_dfs)"
   ]
  },
  {
   "cell_type": "code",
   "execution_count": 16,
   "metadata": {},
   "outputs": [
    {
     "name": "stdout",
     "output_type": "stream",
     "text": [
      "213 µs ± 2.32 µs per loop (mean ± std. dev. of 7 runs, 1000 loops each)\n"
     ]
    }
   ],
   "source": [
    "%%timeit\n",
    "_,_=graph.dfs_path(maze,start,end)\n",
    "maze.clear(whole=True)"
   ]
  },
  {
   "cell_type": "code",
   "execution_count": 17,
   "metadata": {},
   "outputs": [
    {
     "data": {
      "image/png": "[encoded data removed]",
      "text/plain": [
       "<Figure size 600x400 with 1 Axes>"
      ]
     },
     "metadata": {},
     "output_type": "display_data"
    }
   ],
   "source": [
    "#mazerunner yay!\n",
    "maze_viz(matrix,start,end,path_astar)"
   ]
  },
  {
   "cell_type": "code",
   "execution_count": null,
   "metadata": {},
   "outputs": [],
   "source": []
  }
 ],
 "metadata": {
  "kernelspec": {
   "display_name": "Python 3",
   "language": "python",
   "name": "python3"
  },
  "language_info": {
   "codemirror_mode": {
    "name": "ipython",
    "version": 3
   },
   "file_extension": ".py",
   "mimetype": "text/x-python",
   "name": "python",
   "nbconvert_exporter": "python",
   "pygments_lexer": "ipython3",
   "version": "3.6.5"
  }
 },
 "nbformat": 4,
 "nbformat_minor": 2
}
